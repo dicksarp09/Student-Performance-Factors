{
 "cells": [
  {
   "cell_type": "code",
   "execution_count": 1,
   "id": "868a38c7-7fde-43f1-8053-973bfa26aa0a",
   "metadata": {
    "tags": []
   },
   "outputs": [
    {
     "name": "stdout",
     "output_type": "stream",
     "text": [
      "Warning: Looks like you're using an outdated `kagglehub` version (installed: 0.3.12), please consider upgrading to the latest version (0.3.13).\n",
      "Downloading from https://www.kaggle.com/api/v1/datasets/download/lainguyn123/student-performance-factors?dataset_version_number=9...\n"
     ]
    },
    {
     "name": "stderr",
     "output_type": "stream",
     "text": [
      "100%|██████████████████████████████████████████████████████████████████████████████| 93.9k/93.9k [00:00<00:00, 233kB/s]"
     ]
    },
    {
     "name": "stdout",
     "output_type": "stream",
     "text": [
      "Extracting files...\n",
      "Path to dataset files: C:\\Users\\Dickson\\.cache\\kagglehub\\datasets\\lainguyn123\\student-performance-factors\\versions\\9\n",
      "Dataset copied to: Student Performance Factor/data/raw\n"
     ]
    },
    {
     "name": "stderr",
     "output_type": "stream",
     "text": [
      "\n"
     ]
    }
   ],
   "source": [
    "import kagglehub\n",
    "import shutil\n",
    "import os\n",
    "\n",
    "# Download latest version\n",
    "path = kagglehub.dataset_download(\"lainguyn123/student-performance-factors\")\n",
    "print(\"Path to dataset files:\", path)\n",
    "\n",
    "# Define target folder\n",
    "target_dir = \"Student Performance Factor/data/raw\"\n",
    "\n",
    "# Create the folder if it doesn’t exist\n",
    "os.makedirs(target_dir, exist_ok=True)\n",
    "\n",
    "# Copy all files from kagglehub download path to target_dir\n",
    "for file_name in os.listdir(path):\n",
    "    full_file_name = os.path.join(path, file_name)\n",
    "    if os.path.isfile(full_file_name):\n",
    "        shutil.copy(full_file_name, target_dir)\n",
    "\n",
    "print(f\"Dataset copied to: {target_dir}\")\n"
   ]
  },
  {
   "cell_type": "code",
   "execution_count": null,
   "id": "d101861d-ad4e-49d9-9c35-3878f3daefbc",
   "metadata": {},
   "outputs": [],
   "source": []
  }
 ],
 "metadata": {
  "kernelspec": {
   "display_name": "Python 3 (ipykernel)",
   "language": "python",
   "name": "python3"
  },
  "language_info": {
   "codemirror_mode": {
    "name": "ipython",
    "version": 3
   },
   "file_extension": ".py",
   "mimetype": "text/x-python",
   "name": "python",
   "nbconvert_exporter": "python",
   "pygments_lexer": "ipython3",
   "version": "3.11.5"
  }
 },
 "nbformat": 4,
 "nbformat_minor": 5
}
